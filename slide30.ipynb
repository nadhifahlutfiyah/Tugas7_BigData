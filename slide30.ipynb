{
  "nbformat": 4,
  "nbformat_minor": 0,
  "metadata": {
    "colab": {
      "provenance": [],
      "mount_file_id": "1lTbEHfwj5eGaYHR3uKIEVFVa4jkltpAZ",
      "authorship_tag": "ABX9TyOuILS7ZO2tlFMrxBdNXCxl",
      "include_colab_link": true
    },
    "kernelspec": {
      "name": "python3",
      "display_name": "Python 3"
    },
    "language_info": {
      "name": "python"
    }
  },
  "cells": [
    {
      "cell_type": "markdown",
      "metadata": {
        "id": "view-in-github",
        "colab_type": "text"
      },
      "source": [
        "<a href=\"https://colab.research.google.com/github/nadhifahlutfiyah/Tugas7_BigData/blob/main/slide30.ipynb\" target=\"_parent\"><img src=\"https://colab.research.google.com/assets/colab-badge.svg\" alt=\"Open In Colab\"/></a>"
      ]
    },
    {
      "cell_type": "code",
      "execution_count": 1,
      "metadata": {
        "colab": {
          "base_uri": "https://localhost:8080/"
        },
        "id": "Q5Hez4-T2Kma",
        "outputId": "2014db00-c7f2-4f69-8193-8afc9c5a5088"
      },
      "outputs": [
        {
          "output_type": "stream",
          "name": "stdout",
          "text": [
            "Looking in indexes: https://pypi.org/simple, https://us-python.pkg.dev/colab-wheels/public/simple/\n",
            "Collecting pyspark\n",
            "  Downloading pyspark-3.4.0.tar.gz (310.8 MB)\n",
            "\u001b[2K     \u001b[90m━━━━━━━━━━━━━━━━━━━━━━━━━━━━━━━━━━━━━━━\u001b[0m \u001b[32m310.8/310.8 MB\u001b[0m \u001b[31m4.2 MB/s\u001b[0m eta \u001b[36m0:00:00\u001b[0m\n",
            "\u001b[?25h  Preparing metadata (setup.py) ... \u001b[?25l\u001b[?25hdone\n",
            "Requirement already satisfied: py4j==0.10.9.7 in /usr/local/lib/python3.10/dist-packages (from pyspark) (0.10.9.7)\n",
            "Building wheels for collected packages: pyspark\n",
            "  Building wheel for pyspark (setup.py) ... \u001b[?25l\u001b[?25hdone\n",
            "  Created wheel for pyspark: filename=pyspark-3.4.0-py2.py3-none-any.whl size=311317130 sha256=b6c51236a58121c1ec46783b2f02499a8554596ab23e7bc757a9952a308f25b9\n",
            "  Stored in directory: /root/.cache/pip/wheels/7b/1b/4b/3363a1d04368e7ff0d408e57ff57966fcdf00583774e761327\n",
            "Successfully built pyspark\n",
            "Installing collected packages: pyspark\n",
            "Successfully installed pyspark-3.4.0\n"
          ]
        }
      ],
      "source": [
        "!pip install pyspark"
      ]
    },
    {
      "cell_type": "code",
      "source": [
        "from pyspark.sql import SparkSession\n",
        "from pyspark.sql.functions import col\n",
        "from pyspark.ml.recommendation import ALS"
      ],
      "metadata": {
        "id": "OCVE-5MxFcCc"
      },
      "execution_count": 8,
      "outputs": []
    },
    {
      "cell_type": "code",
      "source": [
        "spark = SparkSession.builder.appName(\"Movie Lens\").getOrCreate()"
      ],
      "metadata": {
        "id": "V5Kut7ukJXrU"
      },
      "execution_count": 9,
      "outputs": []
    },
    {
      "cell_type": "code",
      "source": [
        "class Rating:\n",
        "    def __init__(self, userId, movieId, rating, timestamp):\n",
        "        self.userId = int(userId)\n",
        "        self.movieId = int(movieId)\n",
        "        self.rating = float(rating)\n",
        "        self.timestamp = float(timestamp)\n",
        "\n",
        "def parseRating(str):\n",
        "    fields = str.split(\",\")\n",
        "    assert (len(fields) == 4)\n",
        "    return Rating(int(fields[0]), int(fields[1]), float(fields[2]), int(fields[3]))"
      ],
      "metadata": {
        "id": "a47mteLMGwMT"
      },
      "execution_count": 18,
      "outputs": []
    },
    {
      "cell_type": "code",
      "source": [
        "parseRating(\"1,1193,5,978300760\")"
      ],
      "metadata": {
        "colab": {
          "base_uri": "https://localhost:8080/"
        },
        "id": "Yt9ZaK66HdXN",
        "outputId": "40f8bb2b-88f6-42b5-efd4-18f37382eeab"
      },
      "execution_count": 19,
      "outputs": [
        {
          "output_type": "execute_result",
          "data": {
            "text/plain": [
              "<__main__.Rating at 0x7f65fc2a6860>"
            ]
          },
          "metadata": {},
          "execution_count": 19
        }
      ]
    },
    {
      "cell_type": "code",
      "source": [
        "ratings = spark.read.csv(\"/content/drive/MyDrive/Big Data/ratings.csv\", header=True, inferSchema=True)\n",
        "ratings.show(5)"
      ],
      "metadata": {
        "colab": {
          "base_uri": "https://localhost:8080/"
        },
        "id": "58b94gOtKMvP",
        "outputId": "f578d6da-28fb-47b1-bcb2-ee7b8378964a"
      },
      "execution_count": 20,
      "outputs": [
        {
          "output_type": "stream",
          "name": "stdout",
          "text": [
            "+------+-------+------+---------+\n",
            "|userId|movieId|rating|timestamp|\n",
            "+------+-------+------+---------+\n",
            "|     1|      1|   4.0|964982703|\n",
            "|     1|      3|   4.0|964981247|\n",
            "|     1|      6|   4.0|964982224|\n",
            "|     1|     47|   5.0|964983815|\n",
            "|     1|     50|   5.0|964982931|\n",
            "+------+-------+------+---------+\n",
            "only showing top 5 rows\n",
            "\n"
          ]
        }
      ]
    },
    {
      "cell_type": "code",
      "source": [
        "training, test = ratings.randomSplit([0.8, 0.2])\n",
        "\n",
        "als = ALS(maxIter=5, regParam=0.01, userCol=\"userId\", itemCol=\"movieId\", ratingCol=\"rating\")\n",
        "\n",
        "model = als.fit(training)\n",
        "model.write().overwrite().save(\"mymodel\")"
      ],
      "metadata": {
        "id": "07tP6CjOLUcf"
      },
      "execution_count": 21,
      "outputs": []
    },
    {
      "cell_type": "code",
      "source": [
        "predictions = model.transform(test)\n",
        "squaredErrors = predictions.withColumn(\"squaredError\", (col(\"rating\") - col(\"prediction\")) ** 2)\n",
        "mse = squaredErrors.filter(~col(\"squaredError\").isNull()).selectExpr(\"sum(squaredError) as sumSquaredError\").collect()[0][0]"
      ],
      "metadata": {
        "id": "pt5urWooLhu6"
      },
      "execution_count": 22,
      "outputs": []
    },
    {
      "cell_type": "code",
      "source": [
        "predictions.show(10)"
      ],
      "metadata": {
        "colab": {
          "base_uri": "https://localhost:8080/"
        },
        "id": "R60iIJz5QLSt",
        "outputId": "9b4084bd-b561-4793-8165-0a8df5260dda"
      },
      "execution_count": 23,
      "outputs": [
        {
          "output_type": "stream",
          "name": "stdout",
          "text": [
            "+------+-------+------+---------+----------+\n",
            "|userId|movieId|rating|timestamp|prediction|\n",
            "+------+-------+------+---------+----------+\n",
            "|     1|    362|   5.0|964982588|  4.121773|\n",
            "|     1|    333|   5.0|964981179|  3.757859|\n",
            "|     1|     47|   5.0|964983815|  4.999283|\n",
            "|     1|    235|   4.0|964980908| 4.3132267|\n",
            "|     1|    163|   5.0|964983650|  4.333357|\n",
            "|     1|    553|   5.0|964984153|  3.683965|\n",
            "|     1|    316|   3.0|964982310|  3.769468|\n",
            "|     1|    423|   3.0|964982363|  2.520809|\n",
            "|     1|    151|   5.0|964984041| 4.7304077|\n",
            "|     1|    592|   4.0|964982271| 3.9564989|\n",
            "+------+-------+------+---------+----------+\n",
            "only showing top 10 rows\n",
            "\n"
          ]
        }
      ]
    }
  ]
}